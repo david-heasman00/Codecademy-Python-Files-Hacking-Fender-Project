{
 "cells": [
  {
   "cell_type": "markdown",
   "id": "4bed4d64",
   "metadata": {},
   "source": [
    "*This fun, step by step, project \"Hacking The Fender\" is part of Codecademy's chapter on Python Files, part of Python Fundamentals for Data Science (Part II), which is overrall part of the career path [Data Scientist Machine Learning](https://www.codecademy.com/learn/paths/data-science).*\n",
    "\n",
    "*(It's a big course).* \n",
    "\n",
    "*While this could be done in the interactive Codecademy window, I decided to copy it here into Jupyter, just so there's actually a record that I did the dang thing.* \n",
    "\n",
    "*It consolidates and tests one's knowledge of opening and writing files in Python.* \n",
    "\n",
    "*Enjoy.* "
   ]
  },
  {
   "cell_type": "markdown",
   "id": "77621b6c",
   "metadata": {},
   "source": [
    "# Hacking The Fender\n",
    "\n",
    "`The Fender`, a notorious computer hacker and general villain of the people, has compromised several top-secret passwords including your own. Your mission, should you choose to accept it, is threefold. You must acquire access to `The Fender`‘s systems, you must update his `\"passwords.csv\"` file to scramble the secret data. The last thing you need to do is add the signature of `Slash Null`, a different hacker whose nefarious deeds could be very conveniently halted by `The Fender` if they viewed `Slash Null` as a threat.\n",
    "\n",
    "Use your knowledge of working with Python files to retrieve, manipulate, obscure, and create data in your quest for justice. Work with CSV files and other text files in this exploration of the strength of Python file programming.\n",
    "\n",
    "If you get stuck during this project, check out the project walkthrough video which can be found in the help menu."
   ]
  },
  {
   "cell_type": "markdown",
   "id": "c8228782",
   "metadata": {},
   "source": [
    "## Reading In The Passwords\n",
    "\n",
    "1. Are you there? We’ve opened up a communications link to `The Fender`‘s secret computer. We need you to write a program that will read in the compromised usernames and passwords that are stored in a file called `\"passwords.csv\"`.\n",
    "\n",
    "    First import the CSV module, since we’ll be needing it to parse the data."
   ]
  },
  {
   "cell_type": "code",
   "execution_count": 1,
   "id": "1dfe54c3",
   "metadata": {},
   "outputs": [],
   "source": [
    "import csv"
   ]
  },
  {
   "cell_type": "markdown",
   "id": "270e52a7",
   "metadata": {},
   "source": [
    "2. We need to create a list of users whose passwords have been compromised, create a new list and save it to the variable `compromised_users`."
   ]
  },
  {
   "cell_type": "code",
   "execution_count": 2,
   "id": "0fd2ad9d",
   "metadata": {},
   "outputs": [],
   "source": [
    "compromised_users = []"
   ]
  },
  {
   "cell_type": "markdown",
   "id": "65b14893",
   "metadata": {},
   "source": [
    "3. Next we’ll need you to open up the file itself. Store it in a file object called `password_file`."
   ]
  },
  {
   "cell_type": "code",
   "execution_count": 3,
   "id": "3b2149ad",
   "metadata": {},
   "outputs": [
    {
     "ename": "SyntaxError",
     "evalue": "incomplete input (1342885025.py, line 1)",
     "output_type": "error",
     "traceback": [
      "\u001b[0;36m  Cell \u001b[0;32mIn[3], line 1\u001b[0;36m\u001b[0m\n\u001b[0;31m    with open('passwords.csv') as password_file:\u001b[0m\n\u001b[0m                                                ^\u001b[0m\n\u001b[0;31mSyntaxError\u001b[0m\u001b[0;31m:\u001b[0m incomplete input\n"
     ]
    }
   ],
   "source": [
    "with open('passwords.csv') as password_file:"
   ]
  },
  {
   "cell_type": "markdown",
   "id": "27af0c39",
   "metadata": {},
   "source": [
    "4. Pass the `password_file` object holder to our CSV reader for parsing. Save the parsed `csv.DictReader` object as `password_csv`."
   ]
  },
  {
   "cell_type": "code",
   "execution_count": 5,
   "id": "a303c5c8",
   "metadata": {},
   "outputs": [],
   "source": [
    "with open('passwords.csv', newline='') as password_file:\n",
    "    password_csv = csv.DictReader(password_file)"
   ]
  },
  {
   "cell_type": "markdown",
   "id": "acbf17ec",
   "metadata": {},
   "source": [
    "5. Now we’ll want to iterate through each of the lines in the CSV.\n",
    "\n",
    "    Create a for loop and save each row of the CSV into the temporary variable `password_row`."
   ]
  },
  {
   "cell_type": "markdown",
   "id": "528bd689",
   "metadata": {},
   "source": [
    "6. Inside your `for` loop, print out `password_row['Username']`. This is the username of the person whose password was compromised.\n",
    "\n",
    "    Run your code, do you see a list of usernames?"
   ]
  },
  {
   "cell_type": "code",
   "execution_count": 6,
   "id": "18d64bb6",
   "metadata": {},
   "outputs": [
    {
     "name": "stdout",
     "output_type": "stream",
     "text": [
      "jean49\n",
      "haydenashley\n",
      "michaelastephens\n",
      "denisephillips\n",
      "andrew24\n",
      "kaylaabbott\n",
      "tmartinez\n",
      "mholden\n",
      "randygilbert\n",
      "watsonlouis\n",
      "mdavis\n",
      "patrickprice\n",
      "kgriffith\n",
      "hannasarah\n",
      "xaviermartin\n",
      "hrodriguez\n",
      "erodriguez\n",
      "danielleclark\n",
      "timothy26\n",
      "elizabeth19\n"
     ]
    }
   ],
   "source": [
    "with open('passwords.csv', newline='') as password_file:\n",
    "    password_csv = csv.DictReader(password_file)\n",
    "    for row in password_csv:\n",
    "      password_row = row\n",
    "      print(row['Username'])"
   ]
  },
  {
   "cell_type": "markdown",
   "id": "ec7c760a",
   "metadata": {},
   "source": [
    "7. Remove the `print` statement. We want to add each username to the list of `compromised_users`. Use the list’s `.append()` method to add the username to `compromised_users` instead of printing them."
   ]
  },
  {
   "cell_type": "code",
   "execution_count": 7,
   "id": "93242088",
   "metadata": {},
   "outputs": [],
   "source": [
    "with open('passwords.csv', newline='') as password_file:\n",
    "    password_csv = csv.DictReader(password_file)\n",
    "    for row in password_csv:\n",
    "      password_row = row\n",
    "      compromised_users.append(password_row['Username'])"
   ]
  },
  {
   "cell_type": "markdown",
   "id": "54e9940e",
   "metadata": {},
   "source": [
    "8. Exit out of your `with` block for `\"passwords.csv\"`. We have all the data we need from that file.\n",
    "\n",
    "    Start a new `with` block, opening a file called `compromised_users.txt`. Open this file in write-mode, saving the file object as `compromised_user_file`.\n",
    "\n",
    "<br>\n",
    "\n",
    "9. Inside the new context-managed block opened by the `with` statement start a new `for` loop.\n",
    "\n",
    "    Iterate over each of your `compromised_users`.\n",
    "\n",
    "<br>\n",
    "\n",
    "10. Write the username of each `compromised_user` in `compromised_users` to `compromised_user_file`.\n",
    "\n",
    "<br>\n",
    "\n",
    "11. Exit out of that `with` block. You’re doing great so far! We’ve got the data we need to employ as insurance against `The Fender`."
   ]
  },
  {
   "cell_type": "code",
   "execution_count": 8,
   "id": "1d3b1c55",
   "metadata": {},
   "outputs": [],
   "source": [
    "with open('compromised_users.txt', 'w') as compromised_user_file:\n",
    "  for user in compromised_users:\n",
    "    compromised_user_file.write(user + '\\n')"
   ]
  },
  {
   "cell_type": "markdown",
   "id": "8b007a05",
   "metadata": {},
   "source": [
    "## Notifying the Boss\n",
    "\n",
    "12. Your boss needs to know that you were successful in retrieving that compromised data. We’ll need to send him an encoded message over the internet. Let’s use JSON to do that.\n",
    "\n",
    "    First we’ll need to import the `json` module.\n",
    "\n",
    "<br>\n",
    "\n",
    "13. Open a new JSON file in write-mode called `boss_message.json`. Save the file object to the variable `boss_message`.\n",
    "\n",
    "<br>\n",
    "\n",
    "14. Create a Python dictionary object within your with statement that relays a boss message. Call this `boss_message_dict`.\n",
    "\n",
    "    Give it a `\"recipient\"` key with a value `\"The Boss\"`.\n",
    "    \n",
    "    Also give it a `\"message\"` key with the value `\"Mission Success\"`.\n",
    "\n",
    "<br>\n",
    "\n",
    "15. Write out `boss_message_dict` to boss_message using `json.dump()`."
   ]
  },
  {
   "cell_type": "code",
   "execution_count": 1,
   "id": "6af86f03",
   "metadata": {},
   "outputs": [],
   "source": [
    "import json\n",
    "\n",
    "with open('boss_message.json', 'w') as boss_message:\n",
    "  boss_message_dict = {\"recipient\": \"The Boss\", \"message\": \"Mission Success\"}\n",
    "  json.dump(boss_message_dict, boss_message)"
   ]
  },
  {
   "cell_type": "markdown",
   "id": "ebe73e88",
   "metadata": {},
   "source": [
    "## Scrambling the Password\n",
    "\n",
    "16. Now that we’ve safely recovered the compromised users we’ll want to remove the `\"passwords.csv\"` file completely.\n",
    "\n",
    "    Create a new `with` block and open `\"new_passwords.csv\"` in write-mode. Save the file object to a variable called `new_passwords_obj`.\n",
    "\n",
    "<br>\n",
    "\n",
    "17. Enemy of the people, `Slash Null`, is who we want `The Fender` to think was behind this attack. He has a signature, whenever he hacks someone he adds this signature to one of the files he touches. Here is the signature:\n",
    "\n",
    "```\n",
    " _  _     ___   __  ____             \n",
    "/ )( \\   / __) /  \\(_  _)            \n",
    ") \\/ (  ( (_ \\(  O ) )(              \n",
    "\\____/   \\___/ \\__/ (__)             \n",
    " _  _   __    ___  __ _  ____  ____  \n",
    "/ )( \\ / _\\  / __)(  / )(  __)(    \\ \n",
    ") __ (/    \\( (__  )  (  ) _)  ) D ( \n",
    "\\_)(_/\\_/\\_/ \\___)(__\\_)(____)(____/ \n",
    "        ____  __     __   ____  _  _ \n",
    " ___   / ___)(  )   / _\\ / ___)/ )( \\\n",
    "(___)  \\___ \\/ (_/\\/    \\\\___ \\) __ (\n",
    "       (____/\\____/\\_/\\_/(____/\\_)(_/\n",
    " __ _  _  _  __    __                \n",
    "(  ( \\/ )( \\(  )  (  )               \n",
    "/    /) \\/ (/ (_/\\/ (_/\\             \n",
    "\\_)__)\\____/\\____/\\____/\n",
    "```"
   ]
  },
  {
   "cell_type": "code",
   "execution_count": 5,
   "id": "1a4663a7",
   "metadata": {},
   "outputs": [],
   "source": [
    "with open('new_passwords.csv', 'w') as new_passwords_obj:\n",
    "  slash_null_sig = \"\"\" \n",
    "\n",
    " _  _     ___   __  ____             \n",
    "/ )( \\   / __) /  \\(_  _)            \n",
    ") \\/ (  ( (_ \\(  O ) )(              \n",
    "\\____/   \\___/ \\__/ (__)             \n",
    " _  _   __    ___  __ _  ____  ____  \n",
    "/ )( \\ / _\\  / __)(  / )(  __)(    \\ \n",
    ") __ (/    \\( (__  )  (  ) _)  ) D ( \n",
    "\\_)(_/\\_/\\_/ \\___)(__\\_)(____)(____/ \n",
    "        ____  __     __   ____  _  _ \n",
    " ___   / ___)(  )   / _\\ / ___)/ )( \\\n",
    "(___)  \\___ \\/ (_/\\/    \\\\___ \\) __ (\n",
    "       (____/\\____/\\_/\\_/(____/\\_)(_/\n",
    " __ _  _  _  __    __                \n",
    "(  ( \\/ )( \\(  )  (  )               \n",
    "/    /) \\/ (/ (_/\\/ (_/\\             \n",
    "\\_)__)\\____/\\____/\\____/\n",
    "\n",
    "\"\"\"\n",
    "  new_passwords_obj.write(slash_null_sig)"
   ]
  },
  {
   "cell_type": "code",
   "execution_count": null,
   "id": "5fd09a26",
   "metadata": {},
   "outputs": [],
   "source": []
  }
 ],
 "metadata": {
  "kernelspec": {
   "display_name": "Python 3 (ipykernel)",
   "language": "python",
   "name": "python3"
  },
  "language_info": {
   "codemirror_mode": {
    "name": "ipython",
    "version": 3
   },
   "file_extension": ".py",
   "mimetype": "text/x-python",
   "name": "python",
   "nbconvert_exporter": "python",
   "pygments_lexer": "ipython3",
   "version": "3.11.5"
  }
 },
 "nbformat": 4,
 "nbformat_minor": 5
}
